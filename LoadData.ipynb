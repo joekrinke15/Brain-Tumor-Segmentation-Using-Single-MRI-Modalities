{
 "cells": [
  {
   "cell_type": "code",
   "execution_count": 48,
   "metadata": {},
   "outputs": [],
   "source": [
    "import tensorflow as tf\n",
    "import pydicom as dicom\n",
    "import glob\n",
    "import matplotlib.pyplot as plt\n",
    "import os\n",
    "import nibabel as nib\n",
    "from skimage.io import imsave\n",
    "import numpy as np\n",
    "from tensorflow.data.experimental import sample_from_datasets"
   ]
  },
  {
   "cell_type": "code",
   "execution_count": 9,
   "metadata": {},
   "outputs": [],
   "source": [
    "def get_folders():\n",
    "    \"\"\"\n",
    "    Returns a list of all the folders in the HGG and LGG directories.\n",
    "    \"\"\"\n",
    "    HGG_Folders= os.listdir(r'C:\\Users\\Joe Krinke\\Desktop\\BraTS 2019 Data\\MICCAI_BraTS_2019_Data_Training\\HGG')\n",
    "    LGG_Folders = os.listdir(r'C:\\Users\\Joe Krinke\\Desktop\\BraTS 2019 Data\\MICCAI_BraTS_2019_Data_Training\\LGG')\n",
    "    return(HGG_Folders, LGG_Folders)"
   ]
  },
  {
   "cell_type": "code",
   "execution_count": 10,
   "metadata": {},
   "outputs": [],
   "source": [
    "def load_nii_data(filename):\n",
    "    \"\"\"\n",
    "    Load in an nii file and return an array containing the pixel data. \n",
    "    inputs:\n",
    "        filename (string): The name of the nii file you want to load.\n",
    "    outputs:\n",
    "        array (uint8 numpy array): A numpy array of the given image.\n",
    "    \"\"\"\n",
    "    image = nib.load(filename)\n",
    "    array = image.get_fdata()\n",
    "    array = array.astype(np.uint8)\n",
    "    return(array)"
   ]
  },
  {
   "cell_type": "code",
   "execution_count": 44,
   "metadata": {},
   "outputs": [],
   "source": [
    "def LGG_data_generator():\n",
    "    \"\"\"\n",
    "    Create dataset of LGG data.\n",
    "    inputs:\n",
    "        path (string): The path where the folders containing the images are located.\n",
    "    outputs:\n",
    "        Yields image, mask tuples. Each mask appears with its corresponding image. Masks appear multiple times (once for each image type: t1,t2, etc.).\n",
    "        \n",
    "    \"\"\"\n",
    "    path = r'C:/Users/Joe Krinke/Desktop/BraTS 2019 Data/MICCAI_BraTS_2019_Data_Training/'\n",
    "    image_types = ['flair', 't1', 't2', 't1ce']\n",
    "    HGG_Folders, LGG_Folders = get_folders()\n",
    "                         \n",
    "    for i in LGG_Folders:\n",
    "        mask = load_nii_data(path + 'LGG/' + i + '/' + i + '_' + 'seg' + '.nii.gz')\n",
    "        for types in image_types:\n",
    "            data = load_nii_data(path + 'LGG/' + i + '/' + i + '_' + types + '.nii.gz')\n",
    "            img_counter = 0\n",
    "            for j in range(data.shape[2]):\n",
    "                img_counter += 1 \n",
    "                if types == 'flair':\n",
    "                    yield(data[:,:,j], mask[:,:,j])\n",
    "                if types == 't1':\n",
    "                    yield(data[:,:,j], mask[:,:,j])\n",
    "                if types == 't2':\n",
    "                    yield(data[:,:,j], mask[:,:,j])\n",
    "                else:\n",
    "                    yield(data[:,:,j], mask[:,:,j])\n",
    "\n",
    "def HGG_data_generator():\n",
    "    \"\"\" \n",
    "    Create dataset of HGG data.\n",
    "    inputs:\n",
    "        path (string): The path where the folders containing the images are located.\n",
    "    outputs:\n",
    "        Yields image, mask tuples. Each mask appears with its corresponding image. Masks appear multiple times (once for each image type: t1,t2, etc.).\n",
    "        \n",
    "    \"\"\"\n",
    "    path = r'C:/Users/Joe Krinke/Desktop/BraTS 2019 Data/MICCAI_BraTS_2019_Data_Training/'\n",
    "    image_types = ['flair', 't1', 't2', 't1ce']\n",
    "    HGG_Folders, LGG_Folders = get_folders()\n",
    "    for i in HGG_Folders:\n",
    "        mask = load_nii_data(path + 'HGG/' + i + '/' + i + '_' + 'seg' + '.nii.gz')\n",
    "        for types in image_types:\n",
    "            data = load_nii_data(path + 'HGG/'+ i + '/'+ i + '_' + types + '.nii.gz')\n",
    "            img_counter = 0\n",
    "            for j in range(data.shape[2]):\n",
    "                img_counter += 1 \n",
    "                if types == 'flair':\n",
    "                    yield(data[:,:,j], mask[:,:,j])\n",
    "                if types == 't1':\n",
    "                    yield(data[:,:,j], mask[:,:,j])\n",
    "                if types == 't2':\n",
    "                    yield(data[:,:,j], mask[:,:,j])\n",
    "                else:\n",
    "                    yield(data[:,:,j], mask[:,:,j])"
   ]
  },
  {
   "cell_type": "code",
   "execution_count": 49,
   "metadata": {},
   "outputs": [],
   "source": [
    "# Create both datasets\n",
    "HGG_dataset = tf.data.Dataset.from_generator(HGG_data_generator, output_types = (tf.uint8, tf.uint8), output_shapes = (tf.TensorShape([240,240]), tf.TensorShape([240,240])))\n",
    "LGG_dataset = tf.data.Dataset.from_generator(LGG_data_generator, output_types = (tf.uint8, tf.uint8), output_shapes = (tf.TensorShape([240,240]), tf.TensorShape([240,240])))"
   ]
  },
  {
   "cell_type": "code",
   "execution_count": 50,
   "metadata": {},
   "outputs": [],
   "source": [
    "# Create master dataset with examples from both datasets\n",
    "full_dataset = tf.data.experimental.sample_from_datasets([HGG_dataset, LGG_dataset], seed =123)"
   ]
  }
 ],
 "metadata": {
  "kernelspec": {
   "display_name": "Python 3",
   "language": "python",
   "name": "python3"
  },
  "language_info": {
   "codemirror_mode": {
    "name": "ipython",
    "version": 3
   },
   "file_extension": ".py",
   "mimetype": "text/x-python",
   "name": "python",
   "nbconvert_exporter": "python",
   "pygments_lexer": "ipython3",
   "version": "3.8.3"
  }
 },
 "nbformat": 4,
 "nbformat_minor": 4
}
